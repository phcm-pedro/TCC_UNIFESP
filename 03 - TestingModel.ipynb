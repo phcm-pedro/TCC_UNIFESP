{
 "cells": [
  {
   "cell_type": "code",
   "execution_count": 1,
   "metadata": {},
   "outputs": [],
   "source": [
    "import pandas as pd\n",
    "import numpy as np\n",
    "from imblearn.over_sampling import SMOTE\n",
    "from imblearn.under_sampling import RandomUnderSampler\n",
    "from imblearn.combine import SMOTEENN\n",
    "from sklearn.model_selection import train_test_split, KFold\n",
    "from sklearn.ensemble import RandomForestClassifier\n",
    "from sklearn.tree import DecisionTreeClassifier\n",
    "import xgboost as xgb\n",
    "from sklearn.metrics import accuracy_score"
   ]
  },
  {
   "cell_type": "markdown",
   "metadata": {},
   "source": [
    "https://xgboost.readthedocs.io/en/stable/tutorials/model.html"
   ]
  },
  {
   "cell_type": "code",
   "execution_count": 2,
   "metadata": {},
   "outputs": [
    {
     "data": {
      "text/html": [
       "<div>\n",
       "<style scoped>\n",
       "    .dataframe tbody tr th:only-of-type {\n",
       "        vertical-align: middle;\n",
       "    }\n",
       "\n",
       "    .dataframe tbody tr th {\n",
       "        vertical-align: top;\n",
       "    }\n",
       "\n",
       "    .dataframe thead th {\n",
       "        text-align: right;\n",
       "    }\n",
       "</style>\n",
       "<table border=\"1\" class=\"dataframe\">\n",
       "  <thead>\n",
       "    <tr style=\"text-align: right;\">\n",
       "      <th></th>\n",
       "      <th>HeartDisease</th>\n",
       "      <th>BMI</th>\n",
       "      <th>Smoking</th>\n",
       "      <th>AlcoholDrinking</th>\n",
       "      <th>Stroke</th>\n",
       "      <th>PhysicalHealth</th>\n",
       "      <th>MentalHealth</th>\n",
       "      <th>DiffWalking</th>\n",
       "      <th>Sex</th>\n",
       "      <th>AgeCategory</th>\n",
       "      <th>Race</th>\n",
       "      <th>Diabetic</th>\n",
       "      <th>PhysicalActivity</th>\n",
       "      <th>GenHealth</th>\n",
       "      <th>SleepTime</th>\n",
       "      <th>Asthma</th>\n",
       "      <th>KidneyDisease</th>\n",
       "      <th>SkinCancer</th>\n",
       "    </tr>\n",
       "  </thead>\n",
       "  <tbody>\n",
       "    <tr>\n",
       "      <th>0</th>\n",
       "      <td>0</td>\n",
       "      <td>16.60</td>\n",
       "      <td>1</td>\n",
       "      <td>0</td>\n",
       "      <td>0</td>\n",
       "      <td>3.0</td>\n",
       "      <td>30.0</td>\n",
       "      <td>0</td>\n",
       "      <td>1</td>\n",
       "      <td>7</td>\n",
       "      <td>0</td>\n",
       "      <td>1</td>\n",
       "      <td>1</td>\n",
       "      <td>3</td>\n",
       "      <td>5.0</td>\n",
       "      <td>1</td>\n",
       "      <td>0</td>\n",
       "      <td>1</td>\n",
       "    </tr>\n",
       "    <tr>\n",
       "      <th>1</th>\n",
       "      <td>0</td>\n",
       "      <td>20.34</td>\n",
       "      <td>0</td>\n",
       "      <td>0</td>\n",
       "      <td>1</td>\n",
       "      <td>0.0</td>\n",
       "      <td>0.0</td>\n",
       "      <td>0</td>\n",
       "      <td>1</td>\n",
       "      <td>12</td>\n",
       "      <td>0</td>\n",
       "      <td>0</td>\n",
       "      <td>1</td>\n",
       "      <td>3</td>\n",
       "      <td>7.0</td>\n",
       "      <td>0</td>\n",
       "      <td>0</td>\n",
       "      <td>0</td>\n",
       "    </tr>\n",
       "    <tr>\n",
       "      <th>2</th>\n",
       "      <td>0</td>\n",
       "      <td>26.58</td>\n",
       "      <td>1</td>\n",
       "      <td>0</td>\n",
       "      <td>0</td>\n",
       "      <td>20.0</td>\n",
       "      <td>30.0</td>\n",
       "      <td>0</td>\n",
       "      <td>0</td>\n",
       "      <td>9</td>\n",
       "      <td>0</td>\n",
       "      <td>1</td>\n",
       "      <td>1</td>\n",
       "      <td>1</td>\n",
       "      <td>8.0</td>\n",
       "      <td>1</td>\n",
       "      <td>0</td>\n",
       "      <td>0</td>\n",
       "    </tr>\n",
       "    <tr>\n",
       "      <th>3</th>\n",
       "      <td>0</td>\n",
       "      <td>24.21</td>\n",
       "      <td>0</td>\n",
       "      <td>0</td>\n",
       "      <td>0</td>\n",
       "      <td>0.0</td>\n",
       "      <td>0.0</td>\n",
       "      <td>0</td>\n",
       "      <td>1</td>\n",
       "      <td>11</td>\n",
       "      <td>0</td>\n",
       "      <td>0</td>\n",
       "      <td>0</td>\n",
       "      <td>2</td>\n",
       "      <td>6.0</td>\n",
       "      <td>0</td>\n",
       "      <td>0</td>\n",
       "      <td>1</td>\n",
       "    </tr>\n",
       "    <tr>\n",
       "      <th>4</th>\n",
       "      <td>0</td>\n",
       "      <td>23.71</td>\n",
       "      <td>0</td>\n",
       "      <td>0</td>\n",
       "      <td>0</td>\n",
       "      <td>28.0</td>\n",
       "      <td>0.0</td>\n",
       "      <td>1</td>\n",
       "      <td>1</td>\n",
       "      <td>4</td>\n",
       "      <td>0</td>\n",
       "      <td>0</td>\n",
       "      <td>1</td>\n",
       "      <td>3</td>\n",
       "      <td>8.0</td>\n",
       "      <td>0</td>\n",
       "      <td>0</td>\n",
       "      <td>0</td>\n",
       "    </tr>\n",
       "  </tbody>\n",
       "</table>\n",
       "</div>"
      ],
      "text/plain": [
       "   HeartDisease    BMI  Smoking  AlcoholDrinking  Stroke  PhysicalHealth  \\\n",
       "0             0  16.60        1                0       0             3.0   \n",
       "1             0  20.34        0                0       1             0.0   \n",
       "2             0  26.58        1                0       0            20.0   \n",
       "3             0  24.21        0                0       0             0.0   \n",
       "4             0  23.71        0                0       0            28.0   \n",
       "\n",
       "   MentalHealth  DiffWalking  Sex  AgeCategory  Race  Diabetic  \\\n",
       "0          30.0            0    1            7     0         1   \n",
       "1           0.0            0    1           12     0         0   \n",
       "2          30.0            0    0            9     0         1   \n",
       "3           0.0            0    1           11     0         0   \n",
       "4           0.0            1    1            4     0         0   \n",
       "\n",
       "   PhysicalActivity  GenHealth  SleepTime  Asthma  KidneyDisease  SkinCancer  \n",
       "0                 1          3        5.0       1              0           1  \n",
       "1                 1          3        7.0       0              0           0  \n",
       "2                 1          1        8.0       1              0           0  \n",
       "3                 0          2        6.0       0              0           1  \n",
       "4                 1          3        8.0       0              0           0  "
      ]
     },
     "execution_count": 2,
     "metadata": {},
     "output_type": "execute_result"
    }
   ],
   "source": [
    "df = pd.read_pickle(r'C:\\Users\\usuario\\Documents\\12° SEMESTRE\\TCC2\\data\\data_pre_processed.pkl')\n",
    "del df['Class_BMI'], df['ID']\n",
    "df.head()"
   ]
  },
  {
   "cell_type": "code",
   "execution_count": 3,
   "metadata": {},
   "outputs": [],
   "source": [
    "X = df.drop('HeartDisease', axis=1)\n",
    "y = df[['HeartDisease']]"
   ]
  },
  {
   "cell_type": "code",
   "execution_count": 4,
   "metadata": {},
   "outputs": [
    {
     "data": {
      "text/plain": [
       "((239846, 17), (79949, 17), (239846, 1), (79949, 1))"
      ]
     },
     "execution_count": 4,
     "metadata": {},
     "output_type": "execute_result"
    }
   ],
   "source": [
    "X_treino, X_teste, y_treino, y_test = train_test_split(X,y, random_state=42)\n",
    "\n",
    "X_treino.shape, X_teste.shape, y_treino.shape, y_test.shape"
   ]
  },
  {
   "cell_type": "code",
   "execution_count": 16,
   "metadata": {},
   "outputs": [],
   "source": [
    "classificador_RF = RandomForestClassifier()\n",
    "classificador_DT = DecisionTreeClassifier()\n",
    "classificador_XGB = xgb.XGBClassifier()"
   ]
  },
  {
   "cell_type": "code",
   "execution_count": 20,
   "metadata": {},
   "outputs": [],
   "source": [
    "def validacao_cruzada(modelo, X, y, balanceamento):\n",
    "    kfold = KFold(n_splits=5)\n",
    "\n",
    "    acuracias = []\n",
    "\n",
    "    for idx, (idx_treino, idx_validacao) in enumerate(kfold.split(X)):\n",
    "        X_split_treino = X.iloc[idx_treino,:]\n",
    "        y_split_treino = y.iloc[idx_treino,:]\n",
    "\n",
    "        if balanceamento=='Oversampling':\n",
    "            bal = SMOTE(random_state=42)\n",
    "            X_split_treino, y_split_treino =  bal.fit_resample(X_split_treino, y_split_treino)\n",
    "        elif balanceamento=='Undersampling':\n",
    "            bal = RandomUnderSampler(random_state=42)\n",
    "            X_split_treino, y_split_treino = bal.fit_resample(X_split_treino, y_split_treino)\n",
    "        elif balanceamento =='SMOTEENN':\n",
    "            bal = SMOTEENN(random_state=42, sampling_strategy='all')\n",
    "            X_split_treino, y_split_treino = bal.fit_resample(X_split_treino, y_split_treino)\n",
    "        else:\n",
    "            print('Os tipos de balanceamento são: Oversampling, Undersampling e SMOTEENN ')\n",
    "            break\n",
    "        modelo.fit(X_split_treino, y_split_treino.values.flatten())\n",
    "\n",
    "        X_split_validacao = X.iloc[idx_validacao,:]\n",
    "        y_split_validacao = y.iloc[idx_validacao,:]\n",
    "\n",
    "        predicao_validacao = modelo.predict(X_split_validacao)\n",
    "        acuracia_split = accuracy_score(y_split_validacao,predicao_validacao)\n",
    "\n",
    "        acuracias.append(acuracia_split)\n",
    "        print(f'Acurácia do split {idx}: {acuracia_split}')\n",
    "    return modelo"
   ]
  },
  {
   "cell_type": "markdown",
   "metadata": {},
   "source": [
    "Avaliando o modelo Decision Tree"
   ]
  },
  {
   "cell_type": "code",
   "execution_count": 22,
   "metadata": {},
   "outputs": [
    {
     "name": "stdout",
     "output_type": "stream",
     "text": [
      "Acurácia do split 0: 0.8245361684386074\n",
      "Acurácia do split 1: 0.8258041651900185\n",
      "Acurácia do split 2: 0.8257833183931289\n",
      "Acurácia do split 3: 0.8226562988596802\n",
      "Acurácia do split 4: 0.8275136025349705\n"
     ]
    }
   ],
   "source": [
    "modelo = validacao_cruzada(classificador_DT, X_treino, y_treino, 'Oversampling')"
   ]
  },
  {
   "cell_type": "code",
   "execution_count": 23,
   "metadata": {},
   "outputs": [
    {
     "name": "stdout",
     "output_type": "stream",
     "text": [
      "Acurácia do teste: 0.8229621383632065\n"
     ]
    }
   ],
   "source": [
    "pred = modelo.predict(X_teste)\n",
    "ac = accuracy_score(y_test,pred)\n",
    "print(f'Acurácia do teste: {ac}')"
   ]
  },
  {
   "cell_type": "code",
   "execution_count": 13,
   "metadata": {},
   "outputs": [
    {
     "name": "stdout",
     "output_type": "stream",
     "text": [
      "Acurácia do split 0: 0.6734834271419637\n",
      "Acurácia do split 1: 0.678917634305489\n",
      "Acurácia do split 2: 0.6763743250849507\n",
      "Acurácia do split 3: 0.674102024223978\n",
      "Acurácia do split 4: 0.6766870270382955\n"
     ]
    }
   ],
   "source": [
    "validacao_cruzada(classificador_DT, X_treino, y_treino, 'Undersampling')"
   ]
  },
  {
   "cell_type": "code",
   "execution_count": 14,
   "metadata": {},
   "outputs": [
    {
     "name": "stdout",
     "output_type": "stream",
     "text": [
      "Os tipos de balanceamento são: Oversampling, Undersampling e SMOTEENN \n"
     ]
    }
   ],
   "source": [
    "validacao_cruzada(classificador_DT, X_treino, y_treino, 'SMOTE')"
   ]
  },
  {
   "cell_type": "code",
   "execution_count": 15,
   "metadata": {},
   "outputs": [
    {
     "name": "stdout",
     "output_type": "stream",
     "text": [
      "Acurácia do split 0: 0.7739420471127788\n",
      "Acurácia do split 1: 0.7775021367966812\n",
      "Acurácia do split 2: 0.7744793512476807\n",
      "Acurácia do split 3: 0.7739581813254394\n",
      "Acurácia do split 4: 0.7753966103108257\n"
     ]
    }
   ],
   "source": [
    "validacao_cruzada(classificador_DT, X_treino, y_treino, 'SMOTEENN')"
   ]
  },
  {
   "cell_type": "markdown",
   "metadata": {},
   "source": [
    "Avaliando o modelo Random Forest"
   ]
  },
  {
   "cell_type": "code",
   "execution_count": 14,
   "metadata": {},
   "outputs": [
    {
     "name": "stdout",
     "output_type": "stream",
     "text": [
      "Acurácia do split 0: 0.8558474046278924\n",
      "Acurácia do split 1: 0.857949925993871\n",
      "Acurácia do split 2: 0.856428109820926\n",
      "Acurácia do split 3: 0.8564072630240364\n",
      "Acurácia do split 4: 0.8579916195876504\n"
     ]
    }
   ],
   "source": [
    "validacao_cruzada(classificador_RF, X_treino, y_treino, 'Oversampling')"
   ]
  },
  {
   "cell_type": "code",
   "execution_count": 15,
   "metadata": {},
   "outputs": [
    {
     "name": "stdout",
     "output_type": "stream",
     "text": [
      "Acurácia do split 0: 0.6748384406920992\n",
      "Acurácia do split 1: 0.6791886426650545\n",
      "Acurácia do split 2: 0.6769997289916404\n",
      "Acurácia do split 3: 0.6732681523483917\n",
      "Acurácia do split 4: 0.6769371886009714\n"
     ]
    }
   ],
   "source": [
    "validacao_cruzada(classificador_DT, X_treino, y_treino, 'Undersampling')"
   ]
  },
  {
   "cell_type": "markdown",
   "metadata": {},
   "source": [
    "Avaliação o modelo XGBOOST"
   ]
  },
  {
   "cell_type": "code",
   "execution_count": 17,
   "metadata": {},
   "outputs": [
    {
     "name": "stdout",
     "output_type": "stream",
     "text": [
      "Acurácia do split 0: 0.8339378778403168\n",
      "Acurácia do split 1: 0.8304321540995226\n",
      "Acurácia do split 2: 0.8296816694114949\n",
      "Acurácia do split 3: 0.8299318309741708\n",
      "Acurácia do split 4: 0.8324334466009298\n"
     ]
    }
   ],
   "source": [
    "validacao_cruzada(classificador_XGB, X_treino, y_treino, 'Oversampling')"
   ]
  },
  {
   "cell_type": "code",
   "execution_count": 18,
   "metadata": {},
   "outputs": [
    {
     "name": "stdout",
     "output_type": "stream",
     "text": [
      "Acurácia do split 0: 0.7343339587242026\n",
      "Acurácia do split 1: 0.7336404761408409\n",
      "Acurácia do split 2: 0.7330984594217098\n",
      "Acurácia do split 3: 0.7327440638745857\n",
      "Acurácia do split 4: 0.7327649106714753\n"
     ]
    }
   ],
   "source": [
    "validacao_cruzada(classificador_XGB, X_treino, y_treino, 'Undersampling')"
   ]
  },
  {
   "cell_type": "code",
   "execution_count": 19,
   "metadata": {},
   "outputs": [
    {
     "name": "stdout",
     "output_type": "stream",
     "text": [
      "Acurácia do split 0: 0.7830310610798416\n",
      "Acurácia do split 1: 0.7800037524234401\n",
      "Acurácia do split 2: 0.7776272175780191\n",
      "Acurácia do split 3: 0.7788363317976192\n",
      "Acurácia do split 4: 0.7793158081260815\n"
     ]
    }
   ],
   "source": [
    "validacao_cruzada(classificador_XGB, X_treino, y_treino, 'SMOTEENN')"
   ]
  }
 ],
 "metadata": {
  "kernelspec": {
   "display_name": ".tcc",
   "language": "python",
   "name": "python3"
  },
  "language_info": {
   "codemirror_mode": {
    "name": "ipython",
    "version": 3
   },
   "file_extension": ".py",
   "mimetype": "text/x-python",
   "name": "python",
   "nbconvert_exporter": "python",
   "pygments_lexer": "ipython3",
   "version": "3.11.4"
  },
  "orig_nbformat": 4
 },
 "nbformat": 4,
 "nbformat_minor": 2
}
